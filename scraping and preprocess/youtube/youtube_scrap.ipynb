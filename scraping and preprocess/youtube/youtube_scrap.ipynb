{
  "nbformat": 4,
  "nbformat_minor": 0,
  "metadata": {
    "colab": {
      "provenance": [],
      "include_colab_link": true
    },
    "kernelspec": {
      "name": "python3",
      "display_name": "Python 3"
    },
    "language_info": {
      "name": "python"
    }
  },
  "cells": [
    {
      "cell_type": "markdown",
      "metadata": {
        "id": "view-in-github",
        "colab_type": "text"
      },
      "source": [
        "<a href=\"https://colab.research.google.com/github/Haikoo96/Kpop-Trend-Analysis/blob/master/scraping%20and%20preprocess/youtube/youtube_scrap.ipynb\" target=\"_parent\"><img src=\"https://colab.research.google.com/assets/colab-badge.svg\" alt=\"Open In Colab\"/></a>"
      ]
    },
    {
      "cell_type": "markdown",
      "source": [
        "# Install google-api-python-client"
      ],
      "metadata": {
        "id": "0e6srtItmo1X"
      }
    },
    {
      "cell_type": "code",
      "execution_count": null,
      "metadata": {
        "colab": {
          "base_uri": "https://localhost:8080/"
        },
        "id": "GIkqTb9AjxtY",
        "outputId": "cd576298-f350-4c90-f89f-73ce85e44865"
      },
      "outputs": [
        {
          "output_type": "stream",
          "name": "stdout",
          "text": [
            "Requirement already satisfied: google-api-python-client in /usr/local/lib/python3.10/dist-packages (2.84.0)\n",
            "Collecting google-api-python-client\n",
            "  Downloading google_api_python_client-2.125.0-py2.py3-none-any.whl (12.5 MB)\n",
            "\u001b[2K     \u001b[90m━━━━━━━━━━━━━━━━━━━━━━━━━━━━━━━━━━━━━━━━\u001b[0m \u001b[32m12.5/12.5 MB\u001b[0m \u001b[31m14.4 MB/s\u001b[0m eta \u001b[36m0:00:00\u001b[0m\n",
            "\u001b[?25hRequirement already satisfied: httplib2<1.dev0,>=0.19.0 in /usr/local/lib/python3.10/dist-packages (from google-api-python-client) (0.22.0)\n",
            "Requirement already satisfied: google-auth!=2.24.0,!=2.25.0,<3.0.0.dev0,>=1.32.0 in /usr/local/lib/python3.10/dist-packages (from google-api-python-client) (2.27.0)\n",
            "Collecting google-auth-httplib2<1.0.0,>=0.2.0 (from google-api-python-client)\n",
            "  Downloading google_auth_httplib2-0.2.0-py2.py3-none-any.whl (9.3 kB)\n",
            "Requirement already satisfied: google-api-core!=2.0.*,!=2.1.*,!=2.2.*,!=2.3.0,<3.0.0.dev0,>=1.31.5 in /usr/local/lib/python3.10/dist-packages (from google-api-python-client) (2.11.1)\n",
            "Requirement already satisfied: uritemplate<5,>=3.0.1 in /usr/local/lib/python3.10/dist-packages (from google-api-python-client) (4.1.1)\n",
            "Requirement already satisfied: googleapis-common-protos<2.0.dev0,>=1.56.2 in /usr/local/lib/python3.10/dist-packages (from google-api-core!=2.0.*,!=2.1.*,!=2.2.*,!=2.3.0,<3.0.0.dev0,>=1.31.5->google-api-python-client) (1.63.0)\n",
            "Requirement already satisfied: protobuf!=3.20.0,!=3.20.1,!=4.21.0,!=4.21.1,!=4.21.2,!=4.21.3,!=4.21.4,!=4.21.5,<5.0.0.dev0,>=3.19.5 in /usr/local/lib/python3.10/dist-packages (from google-api-core!=2.0.*,!=2.1.*,!=2.2.*,!=2.3.0,<3.0.0.dev0,>=1.31.5->google-api-python-client) (3.20.3)\n",
            "Requirement already satisfied: requests<3.0.0.dev0,>=2.18.0 in /usr/local/lib/python3.10/dist-packages (from google-api-core!=2.0.*,!=2.1.*,!=2.2.*,!=2.3.0,<3.0.0.dev0,>=1.31.5->google-api-python-client) (2.31.0)\n",
            "Requirement already satisfied: cachetools<6.0,>=2.0.0 in /usr/local/lib/python3.10/dist-packages (from google-auth!=2.24.0,!=2.25.0,<3.0.0.dev0,>=1.32.0->google-api-python-client) (5.3.3)\n",
            "Requirement already satisfied: pyasn1-modules>=0.2.1 in /usr/local/lib/python3.10/dist-packages (from google-auth!=2.24.0,!=2.25.0,<3.0.0.dev0,>=1.32.0->google-api-python-client) (0.4.0)\n",
            "Requirement already satisfied: rsa<5,>=3.1.4 in /usr/local/lib/python3.10/dist-packages (from google-auth!=2.24.0,!=2.25.0,<3.0.0.dev0,>=1.32.0->google-api-python-client) (4.9)\n",
            "Requirement already satisfied: pyparsing!=3.0.0,!=3.0.1,!=3.0.2,!=3.0.3,<4,>=2.4.2 in /usr/local/lib/python3.10/dist-packages (from httplib2<1.dev0,>=0.19.0->google-api-python-client) (3.1.2)\n",
            "Requirement already satisfied: pyasn1<0.7.0,>=0.4.6 in /usr/local/lib/python3.10/dist-packages (from pyasn1-modules>=0.2.1->google-auth!=2.24.0,!=2.25.0,<3.0.0.dev0,>=1.32.0->google-api-python-client) (0.6.0)\n",
            "Requirement already satisfied: charset-normalizer<4,>=2 in /usr/local/lib/python3.10/dist-packages (from requests<3.0.0.dev0,>=2.18.0->google-api-core!=2.0.*,!=2.1.*,!=2.2.*,!=2.3.0,<3.0.0.dev0,>=1.31.5->google-api-python-client) (3.3.2)\n",
            "Requirement already satisfied: idna<4,>=2.5 in /usr/local/lib/python3.10/dist-packages (from requests<3.0.0.dev0,>=2.18.0->google-api-core!=2.0.*,!=2.1.*,!=2.2.*,!=2.3.0,<3.0.0.dev0,>=1.31.5->google-api-python-client) (3.6)\n",
            "Requirement already satisfied: urllib3<3,>=1.21.1 in /usr/local/lib/python3.10/dist-packages (from requests<3.0.0.dev0,>=2.18.0->google-api-core!=2.0.*,!=2.1.*,!=2.2.*,!=2.3.0,<3.0.0.dev0,>=1.31.5->google-api-python-client) (2.0.7)\n",
            "Requirement already satisfied: certifi>=2017.4.17 in /usr/local/lib/python3.10/dist-packages (from requests<3.0.0.dev0,>=2.18.0->google-api-core!=2.0.*,!=2.1.*,!=2.2.*,!=2.3.0,<3.0.0.dev0,>=1.31.5->google-api-python-client) (2024.2.2)\n",
            "Installing collected packages: google-auth-httplib2, google-api-python-client\n",
            "  Attempting uninstall: google-auth-httplib2\n",
            "    Found existing installation: google-auth-httplib2 0.1.1\n",
            "    Uninstalling google-auth-httplib2-0.1.1:\n",
            "      Successfully uninstalled google-auth-httplib2-0.1.1\n",
            "  Attempting uninstall: google-api-python-client\n",
            "    Found existing installation: google-api-python-client 2.84.0\n",
            "    Uninstalling google-api-python-client-2.84.0:\n",
            "      Successfully uninstalled google-api-python-client-2.84.0\n",
            "Successfully installed google-api-python-client-2.125.0 google-auth-httplib2-0.2.0\n"
          ]
        }
      ],
      "source": [
        "!pip install --upgrade google-api-python-client"
      ]
    },
    {
      "cell_type": "markdown",
      "source": [
        "# Import libraries"
      ],
      "metadata": {
        "id": "2YzwalV9mxwc"
      }
    },
    {
      "cell_type": "code",
      "source": [
        "from google.colab import drive\n",
        "drive.mount('/content/drive')"
      ],
      "metadata": {
        "colab": {
          "base_uri": "https://localhost:8080/"
        },
        "id": "bdS3hHgYcjFn",
        "outputId": "d967110b-850d-4e3e-9f43-d0007b4735d9"
      },
      "execution_count": null,
      "outputs": [
        {
          "output_type": "stream",
          "name": "stdout",
          "text": [
            "Mounted at /content/drive\n"
          ]
        }
      ]
    },
    {
      "cell_type": "code",
      "source": [
        "# API request\n",
        "from googleapiclient.discovery import build\n",
        "from googleapiclient.errors import HttpError\n",
        "from google.auth.exceptions import GoogleAuthError\n",
        "import pprint\n",
        "\n",
        "# etc\n",
        "import os\n",
        "import re\n",
        "import pandas as pd"
      ],
      "metadata": {
        "id": "TeodY2mtm1Pw"
      },
      "execution_count": null,
      "outputs": []
    },
    {
      "cell_type": "markdown",
      "source": [
        "# Get youtube channel information"
      ],
      "metadata": {
        "id": "6t9XaTMEryyW"
      }
    },
    {
      "cell_type": "code",
      "source": [
        "# extract channel ID\n",
        "def find_channel_id_by_custom_url(custom_url, api_key):\n",
        "    try:\n",
        "        youtube = build('youtube', 'v3', developerKey=api_key)\n",
        "\n",
        "        response = youtube.search().list(\n",
        "            q=custom_url,\n",
        "            part='snippet',\n",
        "            type='channel',\n",
        "            maxResults=1\n",
        "        ).execute()\n",
        "        print(response)\n",
        "\n",
        "        if response['items']:\n",
        "            channel_id = response['items'][0]['id']['channelId']\n",
        "            return channel_id\n",
        "        else:\n",
        "            return None\n",
        "    except HttpError as e:\n",
        "        print(f\"An HTTP error occurred: {e}\")\n",
        "    except GoogleAuthError as e:\n",
        "        print(f\"An authentication error occurred: {e}\")"
      ],
      "metadata": {
        "id": "jEIk4DH4Yw0y"
      },
      "execution_count": null,
      "outputs": []
    },
    {
      "cell_type": "code",
      "source": [
        "find_channel_id_by_custom_url('https://www.youtube.com/@shroud', api_key)"
      ],
      "metadata": {
        "colab": {
          "base_uri": "https://localhost:8080/",
          "height": 74
        },
        "id": "o8vbiq8gdN-G",
        "outputId": "80675152-b197-4261-863d-3d1625e69917"
      },
      "execution_count": null,
      "outputs": [
        {
          "output_type": "stream",
          "name": "stdout",
          "text": [
            "{'kind': 'youtube#searchListResponse', 'etag': 'Z_M_FWmcLRWrjTDXyhZ561uItC0', 'nextPageToken': 'CAEQAA', 'regionCode': 'TW', 'pageInfo': {'totalResults': 14520, 'resultsPerPage': 1}, 'items': [{'kind': 'youtube#searchResult', 'etag': 'lWP1etSg5DKHYwCB2KFcxCPQrZg', 'id': {'kind': 'youtube#channel', 'channelId': 'UCoz3Kpu5lv-ALhR4h9bDvcw'}, 'snippet': {'publishedAt': '2014-12-21T21:21:10Z', 'channelId': 'UCoz3Kpu5lv-ALhR4h9bDvcw', 'title': 'Shroud', 'description': \"Hey! Welcome to my channel. Whether it's Valorant, CS:GO, FPS games, or any trending game that peaks my interest - you will ...\", 'thumbnails': {'default': {'url': 'https://yt3.ggpht.com/ytc/AIdro_kv84HtHyu2amfByzSRAlp6tIXK7oiYSTdrpqZ9uHqwPd8=s88-c-k-c0xffffffff-no-rj-mo'}, 'medium': {'url': 'https://yt3.ggpht.com/ytc/AIdro_kv84HtHyu2amfByzSRAlp6tIXK7oiYSTdrpqZ9uHqwPd8=s240-c-k-c0xffffffff-no-rj-mo'}, 'high': {'url': 'https://yt3.ggpht.com/ytc/AIdro_kv84HtHyu2amfByzSRAlp6tIXK7oiYSTdrpqZ9uHqwPd8=s800-c-k-c0xffffffff-no-rj-mo'}}, 'channelTitle': 'Shroud', 'liveBroadcastContent': 'none', 'publishTime': '2014-12-21T21:21:10Z'}}]}\n"
          ]
        },
        {
          "output_type": "execute_result",
          "data": {
            "text/plain": [
              "'UCoz3Kpu5lv-ALhR4h9bDvcw'"
            ],
            "application/vnd.google.colaboratory.intrinsic+json": {
              "type": "string"
            }
          },
          "metadata": {},
          "execution_count": 5
        }
      ]
    },
    {
      "cell_type": "code",
      "source": [
        "def get_videos_from_channel_url(channel_url, api_key, max_results=50):\n",
        "    youtube = build('youtube', 'v3', developerKey=api_key)\n",
        "\n",
        "    try:\n",
        "        # Get channel ID\n",
        "        channel_id = find_channel_id_by_custom_url(channel_url, api_key)\n",
        "\n",
        "        # Get video IDs\n",
        "        uploads_playlist_id = \"UU\" + channel_id[2:]\n",
        "        playlist_items_response = youtube.playlistItems().list(playlistId=uploads_playlist_id, part='snippet', maxResults=max_results).execute()\n",
        "        video_ids = [item['snippet']['resourceId']['videoId'] for item in playlist_items_response['items']]\n",
        "\n",
        "        return video_ids\n",
        "\n",
        "    except HttpError as error:\n",
        "        print(f\"An HTTP error occurred: {error}\")\n",
        "        return None"
      ],
      "metadata": {
        "id": "NEASe_FhRt6l"
      },
      "execution_count": null,
      "outputs": []
    },
    {
      "cell_type": "code",
      "source": [
        "# Example run\n",
        "channel_url = 'https://www.youtube.com/@HYBELABELS'\n",
        "video_ids = get_videos_from_channel_url(channel_url, api_key)\n",
        "\n",
        "print(video_ids)"
      ],
      "metadata": {
        "colab": {
          "base_uri": "https://localhost:8080/"
        },
        "id": "q1LHAaP6R7Lc",
        "outputId": "264174e2-4eb5-44b7-dd96-685a31b949cc"
      },
      "execution_count": null,
      "outputs": [
        {
          "output_type": "stream",
          "name": "stdout",
          "text": [
            "{'kind': 'youtube#searchListResponse', 'etag': 'bpKawpkTQyyuM3VVe6M41paAbdg', 'nextPageToken': 'CAEQAA', 'regionCode': 'TW', 'pageInfo': {'totalResults': 14426, 'resultsPerPage': 1}, 'items': [{'kind': 'youtube#searchResult', 'etag': '_NnaCF5P7hxS4xkb_PGbmIYqOX0', 'id': {'kind': 'youtube#channel', 'channelId': 'UC3IZKseVpdzPSBaWxBxundA'}, 'snippet': {'publishedAt': '2008-06-04T08:23:22Z', 'channelId': 'UC3IZKseVpdzPSBaWxBxundA', 'title': 'HYBE LABELS', 'description': 'Welcome to the official YouTube channel of HYBE, the content hub for BIGHIT MUSIC, BELIFT LAB, SOURCE MUSIC, PLEDIS ...', 'thumbnails': {'default': {'url': 'https://yt3.ggpht.com/ytc/AIdro_lgzGMjKJk6APU-HOy4Ol3oUIrVzORwTPzxvgRueuaqYpA=s88-c-k-c0xffffffff-no-rj-mo'}, 'medium': {'url': 'https://yt3.ggpht.com/ytc/AIdro_lgzGMjKJk6APU-HOy4Ol3oUIrVzORwTPzxvgRueuaqYpA=s240-c-k-c0xffffffff-no-rj-mo'}, 'high': {'url': 'https://yt3.ggpht.com/ytc/AIdro_lgzGMjKJk6APU-HOy4Ol3oUIrVzORwTPzxvgRueuaqYpA=s800-c-k-c0xffffffff-no-rj-mo'}}, 'channelTitle': 'HYBE LABELS', 'liveBroadcastContent': 'none', 'publishTime': '2008-06-04T08:23:22Z'}}]}\n",
            "['djq7lnvfujc', 'nR0krXjf11Y', 'Giguqx2u1sA', 'N6H6sL-5Peg', 'Myjeohib3QQ', '0xtcImEIrj8', 'q5MwX1CnJaQ', 'DTnUSakIg98', 'SEHFA8wbnAA', '9XxG6FUyh7g', '9pVAGWAFgG0', '2EcwFWwzoMQ', '1Jt386BasCs', 'eH4A9outG-0', 'DiHUEWBRQEI', '4QTRuAYDzzw', '4H3erZh7fVc', 'aQtNNI-pEng', 'vOxDpPWP8dk', 'ZZXIJB1fFNg', 'nUQMPh6A3hA', 'or-vBvcZaao', 'z4Rg_VgOlJU', 'bMf-hZnh4sI', 'su9EJfFBTfI', 'WW3svZ5Pz0o', '9UC4THsBQ-M', '1zxwsYKz6Zc', '3UhKSj59njc', 'V8UFcLPjFyI', 'gNksY1l9Uaw', '_B3EyREA7Oc', 'Vk5-c_v4gMU', 'VZN_A_zRTJ4', '5d23ygPyeMY', 'l0D1qLMCvpE', 'lJ_3K9QhlSQ', '2Efl3EG4Uhk', '_bcd9boEj4A', 'IU7Hor6zVQA', 'SYFR30N6_ew', 'Nmjb9CGqBWA', 'iDLC2eXLEPA', 'INV_LkoDp98', '_mAzAgHp9_M', 'w-vQp05iXcQ', 'zO8jzuoiU80', 'ZzQcUe0_XFQ', 'm7IcaL1YSQQ', 'uJ3555HSfIA']\n"
          ]
        }
      ]
    },
    {
      "cell_type": "code",
      "source": [
        "channel_id_map = {\n",
        "    'hybe_labels': 'https://www.youtube.com/@HYBELABELS',\n",
        "    'jyp_entertainment': 'https://www.youtube.com/@JYPEntertainment',\n",
        "    'sm_town': 'https://www.youtube.com/@SMTOWN',\n",
        "    'yg_entertainment': 'https://www.youtube.com/@YGEntertainment',\n",
        "    'starship_entertainment': 'https://www.youtube.com/@STARSHIP_official',\n",
        "    'cube_entertainment': 'https://www.youtube.com/@theunitedcube',\n",
        "    'the_black_label': 'https://www.youtube.com/@THEBLACKLABEL',\n",
        "    'mbc_kpop': 'https://www.youtube.com/@MBCkpop',\n",
        "    'kbs_kpop': 'https://www.youtube.com/@KBSKpop',\n",
        "    'mnet_kpop': 'https://www.youtube.com/@Mnet',\n",
        "    'mnet_digital_studio': 'https://www.youtube.com/@MnetM2',\n",
        "    'melon_official': 'https://www.youtube.com/@MelonOfficial',\n",
        "    'studio_choom': 'https://www.youtube.com/@STUDIOCHOOM'\n",
        "}"
      ],
      "metadata": {
        "id": "TZ5u4CEhSqky"
      },
      "execution_count": null,
      "outputs": []
    },
    {
      "cell_type": "code",
      "source": [
        "channel_video_map = {}\n",
        "for channel_id in channel_id_map:\n",
        "    channel_url = channel_id_map[channel_id]\n",
        "    video_ids = get_videos_from_channel_url(channel_url, api_key)\n",
        "    channel_video_map[channel_id] = video_ids"
      ],
      "metadata": {
        "colab": {
          "base_uri": "https://localhost:8080/"
        },
        "id": "PayTKSutULJZ",
        "outputId": "59597423-4a5f-4f58-e159-4bdae56ef24f"
      },
      "execution_count": null,
      "outputs": [
        {
          "output_type": "stream",
          "name": "stdout",
          "text": [
            "{'kind': 'youtube#searchListResponse', 'etag': 'aQaWIQUh6hYOa46IbJpZS77xEno', 'nextPageToken': 'CAEQAA', 'regionCode': 'TW', 'pageInfo': {'totalResults': 14657, 'resultsPerPage': 1}, 'items': [{'kind': 'youtube#searchResult', 'etag': 'Kuk93rRr3YGJgEHsE38qquuQF1g', 'id': {'kind': 'youtube#channel', 'channelId': 'UC3IZKseVpdzPSBaWxBxundA'}, 'snippet': {'publishedAt': '2008-06-04T08:23:22Z', 'channelId': 'UC3IZKseVpdzPSBaWxBxundA', 'title': 'HYBE LABELS', 'description': 'Welcome to the official YouTube channel of HYBE, the content hub for BIGHIT MUSIC, BELIFT LAB, SOURCE MUSIC, PLEDIS ...', 'thumbnails': {'default': {'url': 'https://yt3.ggpht.com/ytc/AIdro_lgzGMjKJk6APU-HOy4Ol3oUIrVzORwTPzxvgRueuaqYpA=s88-c-k-c0xffffffff-no-rj-mo'}, 'medium': {'url': 'https://yt3.ggpht.com/ytc/AIdro_lgzGMjKJk6APU-HOy4Ol3oUIrVzORwTPzxvgRueuaqYpA=s240-c-k-c0xffffffff-no-rj-mo'}, 'high': {'url': 'https://yt3.ggpht.com/ytc/AIdro_lgzGMjKJk6APU-HOy4Ol3oUIrVzORwTPzxvgRueuaqYpA=s800-c-k-c0xffffffff-no-rj-mo'}}, 'channelTitle': 'HYBE LABELS', 'liveBroadcastContent': 'none', 'publishTime': '2008-06-04T08:23:22Z'}}]}\n",
            "{'kind': 'youtube#searchListResponse', 'etag': 'fUplYYvpJGJc7-nKgrjupXokkS8', 'nextPageToken': 'CAEQAA', 'regionCode': 'TW', 'pageInfo': {'totalResults': 13319, 'resultsPerPage': 1}, 'items': [{'kind': 'youtube#searchResult', 'etag': 'KVyE2cI6g2PpegZ78UM5Bqx8elM', 'id': {'kind': 'youtube#channel', 'channelId': 'UCaO6TYtlC8U5ttz62hTrZgg'}, 'snippet': {'publishedAt': '2008-01-25T07:45:44Z', 'channelId': 'UCaO6TYtlC8U5ttz62hTrZgg', 'title': 'JYP Entertainment', 'description': 'JYPnation Official YouTube LEADER IN ENTERTAINMENT There are values and goals that JYP Entertainment (JYP) has ...', 'thumbnails': {'default': {'url': 'https://yt3.ggpht.com/kcV7NQkBm-UvvzVTJvrg1Yf1eHSqi-DLXuZPt_ECa3cHEPefujS951Dxj6KUEQ5i9Z7_fyMUjw=s88-c-k-c0xffffffff-no-rj-mo'}, 'medium': {'url': 'https://yt3.ggpht.com/kcV7NQkBm-UvvzVTJvrg1Yf1eHSqi-DLXuZPt_ECa3cHEPefujS951Dxj6KUEQ5i9Z7_fyMUjw=s240-c-k-c0xffffffff-no-rj-mo'}, 'high': {'url': 'https://yt3.ggpht.com/kcV7NQkBm-UvvzVTJvrg1Yf1eHSqi-DLXuZPt_ECa3cHEPefujS951Dxj6KUEQ5i9Z7_fyMUjw=s800-c-k-c0xffffffff-no-rj-mo'}}, 'channelTitle': 'JYP Entertainment', 'liveBroadcastContent': 'upcoming', 'publishTime': '2008-01-25T07:45:44Z'}}]}\n",
            "{'kind': 'youtube#searchListResponse', 'etag': 'x3hTK39inM5yczAdOtASHb2fs54', 'nextPageToken': 'CAEQAA', 'regionCode': 'TW', 'pageInfo': {'totalResults': 13090, 'resultsPerPage': 1}, 'items': [{'kind': 'youtube#searchResult', 'etag': 'gndSnVs8g6zLfQtsdu0pLojaV2Q', 'id': {'kind': 'youtube#channel', 'channelId': 'UCEf_Bc-KVd7onSeifS3py9g'}, 'snippet': {'publishedAt': '2006-03-18T15:43:10Z', 'channelId': 'UCEf_Bc-KVd7onSeifS3py9g', 'title': 'SMTOWN', 'description': \"Welcome to SM Entertainment Official YouTube Channel! You can enjoy SM artist's latest videos on SMTOWN Official YouTube ...\", 'thumbnails': {'default': {'url': 'https://yt3.ggpht.com/_1Z4I2qpWaCN9g3BcDd3cVA9MDHOG43lE1YNWDNkKro49haGxkjwuFK-I8faWTKM6Jle9qb4ag=s88-c-k-c0xffffffff-no-rj-mo'}, 'medium': {'url': 'https://yt3.ggpht.com/_1Z4I2qpWaCN9g3BcDd3cVA9MDHOG43lE1YNWDNkKro49haGxkjwuFK-I8faWTKM6Jle9qb4ag=s240-c-k-c0xffffffff-no-rj-mo'}, 'high': {'url': 'https://yt3.ggpht.com/_1Z4I2qpWaCN9g3BcDd3cVA9MDHOG43lE1YNWDNkKro49haGxkjwuFK-I8faWTKM6Jle9qb4ag=s800-c-k-c0xffffffff-no-rj-mo'}}, 'channelTitle': 'SMTOWN', 'liveBroadcastContent': 'none', 'publishTime': '2006-03-18T15:43:10Z'}}]}\n",
            "{'kind': 'youtube#searchListResponse', 'etag': 'ZrsV_1kWm9z6iV88TjIBtdAE5kI', 'nextPageToken': 'CAEQAA', 'regionCode': 'TW', 'pageInfo': {'totalResults': 13901, 'resultsPerPage': 1}, 'items': [{'kind': 'youtube#searchResult', 'etag': 'GiWOoT8FowsHqVb8VAjM-zE_BcA', 'id': {'kind': 'youtube#channel', 'channelId': 'UC70u2e8gK14R7QfFs7ehNDw'}, 'snippet': {'publishedAt': '2016-07-05T08:54:49Z', 'channelId': 'UC70u2e8gK14R7QfFs7ehNDw', 'title': 'MBC WORLD', 'description': 'Welcome to MBC World where you can find contents of K-POP, K-dramas, and K-mysteries! Subscribe our channel to get ...', 'thumbnails': {'default': {'url': 'https://yt3.ggpht.com/39OJ9c5zzqPo4fZUOV-Zeg3JobiCMBgQ8gvDO23U3N8OZq-F8uP56Ptxs_EnHs7msr4HmOAe=s88-c-k-c0xffffffff-no-rj-mo'}, 'medium': {'url': 'https://yt3.ggpht.com/39OJ9c5zzqPo4fZUOV-Zeg3JobiCMBgQ8gvDO23U3N8OZq-F8uP56Ptxs_EnHs7msr4HmOAe=s240-c-k-c0xffffffff-no-rj-mo'}, 'high': {'url': 'https://yt3.ggpht.com/39OJ9c5zzqPo4fZUOV-Zeg3JobiCMBgQ8gvDO23U3N8OZq-F8uP56Ptxs_EnHs7msr4HmOAe=s800-c-k-c0xffffffff-no-rj-mo'}}, 'channelTitle': 'MBC WORLD', 'liveBroadcastContent': 'upcoming', 'publishTime': '2016-07-05T08:54:49Z'}}]}\n",
            "{'kind': 'youtube#searchListResponse', 'etag': 'wiXF5Cgctu2-mzw95XdWWQzuiZI', 'nextPageToken': 'CAEQAA', 'regionCode': 'TW', 'pageInfo': {'totalResults': 172, 'resultsPerPage': 1}, 'items': [{'kind': 'youtube#searchResult', 'etag': '48L2e8W2ITiEfu061hD766A1MQQ', 'id': {'kind': 'youtube#channel', 'channelId': 'UCYDmx2Sfpnaxg488yBpZIGg'}, 'snippet': {'publishedAt': '2010-03-14T11:10:25Z', 'channelId': 'UCYDmx2Sfpnaxg488yBpZIGg', 'title': 'STARSHIP', 'description': '', 'thumbnails': {'default': {'url': 'https://yt3.ggpht.com/VE6hpkwS4cF2TfRtSHpuXLvMjECnzpqCYpMKkwuYtZYuMULB0WaTKPwiPCaP3Vd0Q-iR9C8bIg=s88-c-k-c0xffffffff-no-rj-mo'}, 'medium': {'url': 'https://yt3.ggpht.com/VE6hpkwS4cF2TfRtSHpuXLvMjECnzpqCYpMKkwuYtZYuMULB0WaTKPwiPCaP3Vd0Q-iR9C8bIg=s240-c-k-c0xffffffff-no-rj-mo'}, 'high': {'url': 'https://yt3.ggpht.com/VE6hpkwS4cF2TfRtSHpuXLvMjECnzpqCYpMKkwuYtZYuMULB0WaTKPwiPCaP3Vd0Q-iR9C8bIg=s800-c-k-c0xffffffff-no-rj-mo'}}, 'channelTitle': 'STARSHIP', 'liveBroadcastContent': 'none', 'publishTime': '2010-03-14T11:10:25Z'}}]}\n",
            "{'kind': 'youtube#searchListResponse', 'etag': 'QOMWj9M0gaycPa5lP8Vs2CQZaAk', 'nextPageToken': 'CAEQAA', 'regionCode': 'TW', 'pageInfo': {'totalResults': 38, 'resultsPerPage': 1}, 'items': [{'kind': 'youtube#searchResult', 'etag': '0moGhOT9YpdAp5j3oEb22j_XEVg', 'id': {'kind': 'youtube#channel', 'channelId': 'UC3lz95UPhKJW1aS3_za6SuQ'}, 'snippet': {'publishedAt': '2012-08-01T06:50:33Z', 'channelId': 'UC3lz95UPhKJW1aS3_za6SuQ', 'title': 'United CUBE (CUBE Entertainment Official YouTube Channel)', 'description': \"Welcome to UNITED CUBE official channel. Subscribe the channel and watch the latest videos from Cube Entertainment's artists.\", 'thumbnails': {'default': {'url': 'https://yt3.ggpht.com/ytc/AIdro_l62ezP2XQ3NRWUxgGX1Zf29gZopixKDYNqnrVSpl8tuNM=s88-c-k-c0xffffffff-no-rj-mo'}, 'medium': {'url': 'https://yt3.ggpht.com/ytc/AIdro_l62ezP2XQ3NRWUxgGX1Zf29gZopixKDYNqnrVSpl8tuNM=s240-c-k-c0xffffffff-no-rj-mo'}, 'high': {'url': 'https://yt3.ggpht.com/ytc/AIdro_l62ezP2XQ3NRWUxgGX1Zf29gZopixKDYNqnrVSpl8tuNM=s800-c-k-c0xffffffff-no-rj-mo'}}, 'channelTitle': 'United CUBE (CUBE Entertainment Official YouTube Channel)', 'liveBroadcastContent': 'upcoming', 'publishTime': '2012-08-01T06:50:33Z'}}]}\n",
            "{'kind': 'youtube#searchListResponse', 'etag': 'OAOgcdeyhqBh8j7316cmulkN3UI', 'nextPageToken': 'CAEQAA', 'regionCode': 'TW', 'pageInfo': {'totalResults': 1693, 'resultsPerPage': 1}, 'items': [{'kind': 'youtube#searchResult', 'etag': 'VWNhBG8u0VCH0WQR2PcYinA3vIk', 'id': {'kind': 'youtube#channel', 'channelId': 'UCg8ZzloDPTrOiGztK0C9txQ'}, 'snippet': {'publishedAt': '2017-11-21T08:28:04Z', 'channelId': 'UCg8ZzloDPTrOiGztK0C9txQ', 'title': 'THEBLACKLABEL', 'description': 'THEBLACKLABEL Official YouTube.', 'thumbnails': {'default': {'url': 'https://yt3.ggpht.com/aTcQbjLBXeliRJqVGGQNLmzcLug2FxQN0hvHL9n_1Ux-xmU42N4-UySBXbR3-8LcPncEPQ5rl8s=s88-c-k-c0xffffffff-no-rj-mo'}, 'medium': {'url': 'https://yt3.ggpht.com/aTcQbjLBXeliRJqVGGQNLmzcLug2FxQN0hvHL9n_1Ux-xmU42N4-UySBXbR3-8LcPncEPQ5rl8s=s240-c-k-c0xffffffff-no-rj-mo'}, 'high': {'url': 'https://yt3.ggpht.com/aTcQbjLBXeliRJqVGGQNLmzcLug2FxQN0hvHL9n_1Ux-xmU42N4-UySBXbR3-8LcPncEPQ5rl8s=s800-c-k-c0xffffffff-no-rj-mo'}}, 'channelTitle': 'THEBLACKLABEL', 'liveBroadcastContent': 'none', 'publishTime': '2017-11-21T08:28:04Z'}}]}\n",
            "{'kind': 'youtube#searchListResponse', 'etag': '2AvewKJFWnhZzLEM6I8sA1EUBm4', 'nextPageToken': 'CAEQAA', 'regionCode': 'TW', 'pageInfo': {'totalResults': 390, 'resultsPerPage': 1}, 'items': [{'kind': 'youtube#searchResult', 'etag': 'JsZ0GeY7EWAc9w7PGl1h9FQ2QM0', 'id': {'kind': 'youtube#channel', 'channelId': 'UCe52oeb7Xv_KaJsEzcKXJJg'}, 'snippet': {'publishedAt': '2011-12-14T08:08:18Z', 'channelId': 'UCe52oeb7Xv_KaJsEzcKXJJg', 'title': 'MBCkpop', 'description': 'Welcome to the official YouTube page of MBC, MBC Kpop Enjoy \"Show! Music Core\" the hottest K-pop program and the essence ...', 'thumbnails': {'default': {'url': 'https://yt3.ggpht.com/HSJYam_ItBlkB_JRt35RegbOkEGmLOA5p3DiWU-DqJ3IgXJwgwhNoxAEiqBKXA-mblrNogatbQ=s88-c-k-c0xffffffff-no-rj-mo'}, 'medium': {'url': 'https://yt3.ggpht.com/HSJYam_ItBlkB_JRt35RegbOkEGmLOA5p3DiWU-DqJ3IgXJwgwhNoxAEiqBKXA-mblrNogatbQ=s240-c-k-c0xffffffff-no-rj-mo'}, 'high': {'url': 'https://yt3.ggpht.com/HSJYam_ItBlkB_JRt35RegbOkEGmLOA5p3DiWU-DqJ3IgXJwgwhNoxAEiqBKXA-mblrNogatbQ=s800-c-k-c0xffffffff-no-rj-mo'}}, 'channelTitle': 'MBCkpop', 'liveBroadcastContent': 'upcoming', 'publishTime': '2011-12-14T08:08:18Z'}}]}\n",
            "{'kind': 'youtube#searchListResponse', 'etag': 'JaCYLpUjICgDWK-vFbZbHf--I08', 'nextPageToken': 'CAEQAA', 'regionCode': 'TW', 'pageInfo': {'totalResults': 498, 'resultsPerPage': 1}, 'items': [{'kind': 'youtube#searchResult', 'etag': '1N8jJivNZ4WSaezY9iIJeWOS7fI', 'id': {'kind': 'youtube#channel', 'channelId': 'UCeLPm9yH_a_QH8n6445G-Ow'}, 'snippet': {'publishedAt': '2011-12-28T02:47:08Z', 'channelId': 'UCeLPm9yH_a_QH8n6445G-Ow', 'title': 'KBS Kpop', 'description': '[KBS 한국방송] 음악 전문 채널, KBS Kpop 입니다. [KBS Korean Broadcasting System] Official Music Channel, KBS kpop.', 'thumbnails': {'default': {'url': 'https://yt3.ggpht.com/XIrz2X4rxeRt59xggde9am7KqkZQ7e3TSaY3bZVWr6bWAVToAKNNH05ZAyovMCJySVxTjZHD=s88-c-k-c0xffffffff-no-rj-mo'}, 'medium': {'url': 'https://yt3.ggpht.com/XIrz2X4rxeRt59xggde9am7KqkZQ7e3TSaY3bZVWr6bWAVToAKNNH05ZAyovMCJySVxTjZHD=s240-c-k-c0xffffffff-no-rj-mo'}, 'high': {'url': 'https://yt3.ggpht.com/XIrz2X4rxeRt59xggde9am7KqkZQ7e3TSaY3bZVWr6bWAVToAKNNH05ZAyovMCJySVxTjZHD=s800-c-k-c0xffffffff-no-rj-mo'}}, 'channelTitle': 'KBS Kpop', 'liveBroadcastContent': 'live', 'publishTime': '2011-12-28T02:47:08Z'}}]}\n",
            "{'kind': 'youtube#searchListResponse', 'etag': 'FVJTIA85varVMgg7zY6aqpwUfYU', 'nextPageToken': 'CAEQAA', 'regionCode': 'TW', 'pageInfo': {'totalResults': 16216, 'resultsPerPage': 1}, 'items': [{'kind': 'youtube#searchResult', 'etag': 'MF2NlUTPIau7cn_7KhWT_iKo-wQ', 'id': {'kind': 'youtube#channel', 'channelId': 'UCbD8EppRX3ZwJSou-TVo90A'}, 'snippet': {'publishedAt': '2006-03-09T02:12:08Z', 'channelId': 'UCbD8EppRX3ZwJSou-TVo90A', 'title': 'Mnet K-POP', 'description': \"K-POP Channel of World's No.1 Music Channel Mnet Watch the latest and hottest K-POP contents on ✨Mnet K-POP✨ cCJ ENM.\", 'thumbnails': {'default': {'url': 'https://yt3.ggpht.com/ytc/AIdro_lBqrcP7DAfrtymgGoQG0Ddh9RcuJvGGnUkgNKG912WWDUi=s88-c-k-c0xffffffff-no-rj-mo'}, 'medium': {'url': 'https://yt3.ggpht.com/ytc/AIdro_lBqrcP7DAfrtymgGoQG0Ddh9RcuJvGGnUkgNKG912WWDUi=s240-c-k-c0xffffffff-no-rj-mo'}, 'high': {'url': 'https://yt3.ggpht.com/ytc/AIdro_lBqrcP7DAfrtymgGoQG0Ddh9RcuJvGGnUkgNKG912WWDUi=s800-c-k-c0xffffffff-no-rj-mo'}}, 'channelTitle': 'Mnet K-POP', 'liveBroadcastContent': 'none', 'publishTime': '2006-03-09T02:12:08Z'}}]}\n",
            "{'kind': 'youtube#searchListResponse', 'etag': 'PPxJ2b5MvRixVvzyyr1O0U7sC_M', 'nextPageToken': 'CAEQAA', 'regionCode': 'TW', 'pageInfo': {'totalResults': 74, 'resultsPerPage': 1}, 'items': [{'kind': 'youtube#searchResult', 'etag': '58TL4juXABQVkI1jBrVL7XMEqeQ', 'id': {'kind': 'youtube#channel', 'channelId': 'UCTQVIXvcHrR9jYoJ6qaBAow'}, 'snippet': {'publishedAt': '2014-04-29T08:20:10Z', 'channelId': 'UCTQVIXvcHrR9jYoJ6qaBAow', 'title': 'M2', 'description': 'Mnet Digital Studio, M2 엠넷 디지털 스튜디오, M2(엠투) 협업 및 제휴 문의: mnetdigitalstudio@gmail.com cCJ ENM. Corp ALL ...', 'thumbnails': {'default': {'url': 'https://yt3.ggpht.com/ytc/AIdro_kR-WEZhg4O8MAyFrNoaA09PsthWXxfIGiyaT68BEJBXAI=s88-c-k-c0xffffffff-no-rj-mo'}, 'medium': {'url': 'https://yt3.ggpht.com/ytc/AIdro_kR-WEZhg4O8MAyFrNoaA09PsthWXxfIGiyaT68BEJBXAI=s240-c-k-c0xffffffff-no-rj-mo'}, 'high': {'url': 'https://yt3.ggpht.com/ytc/AIdro_kR-WEZhg4O8MAyFrNoaA09PsthWXxfIGiyaT68BEJBXAI=s800-c-k-c0xffffffff-no-rj-mo'}}, 'channelTitle': 'M2', 'liveBroadcastContent': 'none', 'publishTime': '2014-04-29T08:20:10Z'}}]}\n",
            "{'kind': 'youtube#searchListResponse', 'etag': '66RF0LrYDOEJjNSTKL_efJgz0Qo', 'nextPageToken': 'CAEQAA', 'regionCode': 'TW', 'pageInfo': {'totalResults': 203, 'resultsPerPage': 1}, 'items': [{'kind': 'youtube#searchResult', 'etag': '5W16CtOeG7F1v1mC4hBFwNm1XJQ', 'id': {'kind': 'youtube#channel', 'channelId': 'UCpBlDSUyOpP1WqWVJxZpGLg'}, 'snippet': {'publishedAt': '2019-10-08T02:47:50Z', 'channelId': 'UCpBlDSUyOpP1WqWVJxZpGLg', 'title': '멜론 Melon', 'description': 'MMA2023 고화질 다시보기는 멜론에서   음악이 필요한 순간, 멜론 공식 유튜브 채널입니다. #멜론 #Melon #멜론차트 #멜론뮤직 ...', 'thumbnails': {'default': {'url': 'https://yt3.ggpht.com/h6TfBfR-dul9Po5CKnXYKEA-gS08s5YyoK7fadEnlQhU2UwJ94W4RM3ey1XPdObEuWyql-Mv=s88-c-k-c0xffffffff-no-rj-mo'}, 'medium': {'url': 'https://yt3.ggpht.com/h6TfBfR-dul9Po5CKnXYKEA-gS08s5YyoK7fadEnlQhU2UwJ94W4RM3ey1XPdObEuWyql-Mv=s240-c-k-c0xffffffff-no-rj-mo'}, 'high': {'url': 'https://yt3.ggpht.com/h6TfBfR-dul9Po5CKnXYKEA-gS08s5YyoK7fadEnlQhU2UwJ94W4RM3ey1XPdObEuWyql-Mv=s800-c-k-c0xffffffff-no-rj-mo'}}, 'channelTitle': '멜론 Melon', 'liveBroadcastContent': 'upcoming', 'publishTime': '2019-10-08T02:47:50Z'}}]}\n",
            "{'kind': 'youtube#searchListResponse', 'etag': 'rWxfoAZlVUxQeG9-3LtHieLTXdQ', 'nextPageToken': 'CAEQAA', 'regionCode': 'TW', 'pageInfo': {'totalResults': 9701, 'resultsPerPage': 1}, 'items': [{'kind': 'youtube#searchResult', 'etag': 'tGNVndj6a6_wXtLK_qBCCZE1BR0', 'id': {'kind': 'youtube#channel', 'channelId': 'UCEIi7zFR_wE23jFncVtd6-A'}, 'snippet': {'publishedAt': '2018-10-24T05:55:23Z', 'channelId': 'UCEIi7zFR_wE23jFncVtd6-A', 'title': 'STUDIO CHOOM [스튜디오 춤]', 'description': 'Dance a lot, STUDIO CHOOM STUDIO CHOOM | 스튜디오 춤 STUDIO CHOOM is the most unique K-pop dance specialized ...', 'thumbnails': {'default': {'url': 'https://yt3.ggpht.com/ixHhldQy6-W3MeAy8n8Kcy8vUAkxNvgGBTFb4xpnIcVRZCviipODGHOLjdKi_VIzhRb5It84aQ=s88-c-k-c0xffffffff-no-rj-mo'}, 'medium': {'url': 'https://yt3.ggpht.com/ixHhldQy6-W3MeAy8n8Kcy8vUAkxNvgGBTFb4xpnIcVRZCviipODGHOLjdKi_VIzhRb5It84aQ=s240-c-k-c0xffffffff-no-rj-mo'}, 'high': {'url': 'https://yt3.ggpht.com/ixHhldQy6-W3MeAy8n8Kcy8vUAkxNvgGBTFb4xpnIcVRZCviipODGHOLjdKi_VIzhRb5It84aQ=s800-c-k-c0xffffffff-no-rj-mo'}}, 'channelTitle': 'STUDIO CHOOM [스튜디오 춤]', 'liveBroadcastContent': 'none', 'publishTime': '2018-10-24T05:55:23Z'}}]}\n"
          ]
        }
      ]
    },
    {
      "cell_type": "markdown",
      "source": [
        "# Get youtube video information"
      ],
      "metadata": {
        "id": "uGj05V34Q770"
      }
    },
    {
      "cell_type": "code",
      "source": [
        "def get_video_details(video_id, api_key, num_comments=100):\n",
        "    # Initialize the YouTube API client and data\n",
        "    youtube = build('youtube', 'v3', developerKey=api_key)\n",
        "\n",
        "    video_title = \"Title Not Found\"\n",
        "    comments = []\n",
        "    view_count = 0\n",
        "    like_count = 0\n",
        "    comment_count = 0\n",
        "\n",
        "    try:\n",
        "        # Fetch both video details and comments in a single request to minimize API calls\n",
        "        video_request = youtube.videos().list(\n",
        "            part='snippet,statistics',\n",
        "            id=video_id\n",
        "        )\n",
        "        video_response = video_request.execute()\n",
        "\n",
        "        # Extract video title and metadata\n",
        "        if video_response['items']:\n",
        "            video_item = video_response['items'][0]\n",
        "            video_title = video_item['snippet']['title']\n",
        "            statistics = video_item['statistics']\n",
        "\n",
        "            # Convert counts to integers\n",
        "            view_count = int(statistics.get('viewCount', '0'))\n",
        "            like_count = int(statistics.get('likeCount', '0'))\n",
        "            comment_count = int(statistics.get('commentCount', '0'))\n",
        "\n",
        "            # Fetch comments only if they are available\n",
        "            if comment_count > 0 and num_comments > 0:\n",
        "                comment_request = youtube.commentThreads().list(\n",
        "                    part='snippet',\n",
        "                    videoId=video_id,\n",
        "                    maxResults=min(num_comments, 100),  # Due to API limit, can request up to 100 comments at a time\n",
        "                    textFormat='plainText'\n",
        "                )\n",
        "\n",
        "                while comment_request and len(comments) < num_comments:\n",
        "                    comment_response = comment_request.execute()\n",
        "\n",
        "                    for item in comment_response['items']:\n",
        "                        comment = item['snippet']['topLevelComment']['snippet']['textDisplay']\n",
        "                        comments.append(comment)\n",
        "\n",
        "                    # Prepare for fetching comments from the next page\n",
        "                    if 'nextPageToken' in comment_response and len(comments) < num_comments:\n",
        "                        comment_request = youtube.commentThreads().list_next(\n",
        "                            comment_request, comment_response)\n",
        "                    else:\n",
        "                        break\n",
        "\n",
        "    except HttpError as e:\n",
        "        # Handle videos with disabled comments\n",
        "        if e.resp.status == 403:\n",
        "            print(f\"Comments are disabled for video: {video_id}\")\n",
        "            comments = [\"Comments are disabled\"]\n",
        "        else:\n",
        "            raise e\n",
        "\n",
        "    return video_title, comments, view_count, like_count, comment_count"
      ],
      "metadata": {
        "id": "ybsm-WxLj4OR"
      },
      "execution_count": null,
      "outputs": []
    },
    {
      "cell_type": "code",
      "source": [
        "# Example: TXT's video\n",
        "video_id = channel_video_map['hybe_labels'][0]\n",
        "title, comments, view_count, like_count, comment_count = get_video_details(video_id, api_key, num_comments=100)\n",
        "print(title)\n",
        "print(comments[:3])\n",
        "print(view_count, like_count, comment_count)"
      ],
      "metadata": {
        "colab": {
          "base_uri": "https://localhost:8080/"
        },
        "id": "7k9zig2pmPLI",
        "outputId": "accb069b-c0b0-44e4-fa7d-71d5ad133dec"
      },
      "execution_count": null,
      "outputs": [
        {
          "output_type": "stream",
          "name": "stdout",
          "text": [
            "BOYNEXTDOOR [HOW?] Track Spoiler Track 6. Dear. My Darling\n",
            "['I LOVE IT', 'ㅗ영 혀ㄷ형ㅎ뇯ㅎ 여오어도ㅕㄷ..뎌ㅑ도댜곡......ㅗ뎓겨도ㅕ됴ㅛㄱ횩 혹 이 동영상을 담아 보았습니다,거ㅕ거겨,,,,ㅗ더도더도뎌ㅗ여고ㅛ 오 나의 마음을 가지고...ㅎ양 ㅎㅌ 히어로에 ㅗㄹ로여ㅗ요 ㅗ영 오ㅕ오ㅕ오ㅕㅇ❤❤❤❤❤😔💖', 'Bravissimo hai una bella voce sei divinamente perfetto 😊']\n",
            "23491 5252 41\n"
          ]
        }
      ]
    },
    {
      "cell_type": "markdown",
      "source": [
        "# Save the video data"
      ],
      "metadata": {
        "id": "o_YOQ4-esUtS"
      }
    },
    {
      "cell_type": "code",
      "source": [
        "def clean_comment(comment):\n",
        "    # Replace white spaces to a single space\n",
        "    cleaned_comment = re.sub(r'\\s+', ' ', comment)\n",
        "    cleaned_comment = cleaned_comment.strip()\n",
        "\n",
        "    # Remove \", '\n",
        "    cleaned_comment = cleaned_comment.replace('\"', ' ')\n",
        "    cleaned_comment = cleaned_comment.replace(\"'\", ' ')\n",
        "    return cleaned_comment"
      ],
      "metadata": {
        "id": "ReNCevWHawa9"
      },
      "execution_count": null,
      "outputs": []
    },
    {
      "cell_type": "code",
      "source": [
        "results = []\n",
        "for channel_name, video_ids in channel_video_map.items():\n",
        "    print(f\"Processing channel: {channel_name}\")\n",
        "    for video_id in video_ids:\n",
        "        try:\n",
        "            title, comments, view_count, like_count, comment_count = get_video_details(video_id, api_key, num_comments=100)\n",
        "            cleaned_comments = [clean_comment(comment) for comment in comments]\n",
        "            results.append({\n",
        "                'channel': channel_name,\n",
        "                'video_id': video_id,\n",
        "                'title': title,\n",
        "                'view_count': view_count,\n",
        "                'like_count': like_count,\n",
        "                'comment_count': comment_count,\n",
        "                'comments': cleaned_comments\n",
        "            })\n",
        "        except Exception as e:\n",
        "            print(f\"Error processing video {video_id} from {channel_name}: {e}\")"
      ],
      "metadata": {
        "id": "vMpicq0MmjTM",
        "colab": {
          "base_uri": "https://localhost:8080/"
        },
        "outputId": "7b9b7fdc-6aa5-4eec-ae61-7156ed3b6699"
      },
      "execution_count": null,
      "outputs": [
        {
          "output_type": "stream",
          "name": "stdout",
          "text": [
            "Processing channel: hybe_labels\n",
            "Processing channel: jyp_entertainment\n",
            "Processing channel: sm_town\n",
            "Processing channel: yg_entertainment\n",
            "Processing channel: starship_entertainment\n",
            "Processing channel: cube_entertainment\n",
            "Processing channel: the_black_label\n",
            "Processing channel: mbc_kpop\n",
            "Processing channel: kbs_kpop\n",
            "Processing channel: mnet_kpop\n",
            "Processing channel: mnet_digital_studio\n",
            "Processing channel: melon_official\n",
            "Processing channel: studio_choom\n"
          ]
        }
      ]
    },
    {
      "cell_type": "code",
      "source": [
        "file_path = os.path.join(data_dir, 'youtube_raw_data.csv')\n",
        "results_df = pd.DataFrame(results)\n",
        "results_df.to_csv(file_path, index=False)"
      ],
      "metadata": {
        "id": "nwAFAotvW_uV"
      },
      "execution_count": null,
      "outputs": []
    },
    {
      "cell_type": "code",
      "source": [],
      "metadata": {
        "id": "LfzHR93JXNi_"
      },
      "execution_count": null,
      "outputs": []
    }
  ]
}