{
 "cells": [
  {
   "cell_type": "code",
   "execution_count": 1,
   "id": "8b84aaeb-8e00-4ae6-a840-13d523431deb",
   "metadata": {},
   "outputs": [],
   "source": [
    "import pandas as pd\n",
    "import numpy as np\n",
    "from datetime import datetime, timedelta\n",
    "from selenium import webdriver\n",
    "from selenium.webdriver.common.keys import Keys\n",
    "from selenium.webdriver.common.by import By\n",
    "import time\n",
    "from bs4 import BeautifulSoup"
   ]
  },
  {
   "cell_type": "markdown",
   "id": "0b11f2d1-009e-4727-89ce-359282dcfa9c",
   "metadata": {},
   "source": [
    "## **Accessing web and scraping**\n",
    "1. Access [allkpop](https://www.allkpop.com/) through Selenium\n",
    "2. Scroll until Selenium reaches the 100th scrolls in the web\n",
    "3. Load the html and scrape"
   ]
  },
  {
   "cell_type": "code",
   "execution_count": 2,
   "id": "33c73968-ccbd-4f86-ad9c-144f167c89e9",
   "metadata": {},
   "outputs": [],
   "source": [
    "# setup for accessing allkpop.com\n",
    "options = webdriver.ChromeOptions()\n",
    "driver = webdriver.Chrome(options=options)\n",
    "\n",
    "driver.get(\"https://www.allkpop.com/\")"
   ]
  },
  {
   "cell_type": "code",
   "execution_count": 3,
   "id": "26540bcc-d556-4c4f-9414-3bc3c5e3dc4b",
   "metadata": {},
   "outputs": [
    {
     "name": "stdout",
     "output_type": "stream",
     "text": [
      "Time taken: 205.57 sec\n"
     ]
    }
   ],
   "source": [
    "# scroll 100 times with a javascript script\n",
    "\n",
    "tic = time.time()\n",
    "number_of_scrolls = 100\n",
    "for _ in range(number_of_scrolls):\n",
    "    # Scroll down to the bottom\n",
    "    driver.execute_script(\"window.scrollTo(0, document.body.scrollHeight);\")\n",
    "    \n",
    "    time.sleep(2)\n",
    "\n",
    "toc = time.time()\n",
    "runtime = toc - tic\n",
    "print(f\"Time taken: {runtime:.2f} sec\")"
   ]
  },
  {
   "cell_type": "code",
   "execution_count": 4,
   "id": "2288635f-9a83-4054-b2c7-3ef558600aae",
   "metadata": {},
   "outputs": [
    {
     "name": "stdout",
     "output_type": "stream",
     "text": [
      "Time taken: 1.19 sec\n"
     ]
    }
   ],
   "source": [
    "# scrape by class tags with bf4\n",
    "\n",
    "html = driver.page_source  # the entire html loaded by the scrolls \n",
    "soup = BeautifulSoup(html, 'html.parser')\n",
    "\n",
    "tic = time.time()\n",
    "\n",
    "titles = soup.find_all(class_='title')\n",
    "info = soup.find_all(class_=\"info\")\n",
    "categories = soup.find_all(class_=\"category button cate_btn\")\n",
    "\n",
    "toc = time.time()\n",
    "\n",
    "runtime = toc - tic\n",
    "print(f\"Time taken: {runtime:.2f} sec\")"
   ]
  },
  {
   "cell_type": "markdown",
   "id": "d20a60d8-282e-477f-a656-2b3cecdfa90d",
   "metadata": {},
   "source": [
    "## **Preprocessing raw data scraped from allkpop.com**\n",
    "1. date conversions\n",
    "2. allocating data to the corresponding columns via Pandas"
   ]
  },
  {
   "cell_type": "code",
   "execution_count": 5,
   "id": "8edb9199-a743-468e-b183-ba561cd1a6e4",
   "metadata": {},
   "outputs": [],
   "source": [
    "# just in case, deep copy the scraped data\n",
    "title_lst = [title.text.strip() for title in titles]\n",
    "info_lst = [info_.text.strip() for info_ in info]\n",
    "cat_lst = [cat.text.strip() for cat in categories]\n",
    "\n",
    "title_copy = title_lst\n",
    "info_copy = info_lst\n",
    "cat_copy = cat_lst"
   ]
  },
  {
   "cell_type": "code",
   "execution_count": 6,
   "id": "5d97b06c-b9df-48e5-907c-b3ccb3665336",
   "metadata": {},
   "outputs": [
    {
     "name": "stdout",
     "output_type": "stream",
     "text": [
      "length of info list:1540\n",
      "length of title list:1555\n",
      "length of category list:1540\n"
     ]
    }
   ],
   "source": [
    "# checking the length of each lst\n",
    "print(f\"length of info list:{len(info_copy)}\")\n",
    "print(f\"length of title list:{len(title_copy)}\")\n",
    "print(f\"length of category list:{len(cat_copy)}\")"
   ]
  },
  {
   "cell_type": "code",
   "execution_count": 7,
   "id": "fdfa2dc4-80b3-4be3-90a1-13af0f54365b",
   "metadata": {},
   "outputs": [],
   "source": [
    "# pre-formatting before date conversion\n",
    "def formatting_data(lst):\n",
    "    temp_lst = lst\n",
    "    \n",
    "    for i in range(len(temp_lst)):\n",
    "        temp_lst[i] = temp_lst[i].split()\n",
    "        \n",
    "        if len(temp_lst[i]) == 6:\n",
    "            joined_lst = [' '.join(temp_lst[i][1:4])]\n",
    "            temp_lst[i][1:4] = joined_lst\n",
    "        \n",
    "        if ('hour' in temp_lst[i][1]) or ('minute' in temp_lst[i][1]):\n",
    "            temp_lst[i][1] = '3/18/2024'\n",
    "    \n",
    "    return temp_lst"
   ]
  },
  {
   "cell_type": "code",
   "execution_count": 8,
   "id": "ea6b9417-9c31-4238-8081-e0884229b83e",
   "metadata": {},
   "outputs": [],
   "source": [
    "pre_format_lst = formatting_data(info_copy)"
   ]
  },
  {
   "cell_type": "code",
   "execution_count": 9,
   "id": "efda4dd8-9aff-47c9-abe0-c3919fcb9882",
   "metadata": {},
   "outputs": [],
   "source": [
    "# coverting dates to '%m/%d/%Y' format\n",
    "def convert_date_format(entry):\n",
    "    try:\n",
    "        if len(entry[1].split(',')) == 2:  # Likely in \"Day, Month DD, YYYY\" format\n",
    "            date_str = ' '.join(entry[1:5])  # Reconstruct the date string\n",
    "            date_obj = datetime.strptime(date_str, \"%A, %B %d, %Y\")\n",
    "            new_date = date_obj.strftime('%m/%d/%Y')\n",
    "            return [entry[0], new_date] + entry[5:]\n",
    "    except ValueError:\n",
    "        pass  \n",
    "    \n",
    "    start_date = datetime.now()\n",
    "    \n",
    "    if 'days ago' in entry[1]:\n",
    "        days_ago = int(entry[1].split()[0])\n",
    "        actual_date = start_date - timedelta(days=days_ago)\n",
    "        return [entry[0], actual_date.strftime('%m/%d/%Y')] + entry[2:]\n",
    "    elif 'day ago' in entry[1]:\n",
    "        actual_date = start_date - timedelta(days=1)\n",
    "        return [entry[0], actual_date.strftime('%m/%d/%Y')] + entry[2:]\n",
    "    \n",
    "    return entry"
   ]
  },
  {
   "cell_type": "code",
   "execution_count": 10,
   "id": "25bf1122-4ad1-4cf7-b60c-de6baca7e826",
   "metadata": {},
   "outputs": [],
   "source": [
    "# Process the data to standardize date format\n",
    "processed_data = [convert_date_format(entry) for entry in pre_format_lst]"
   ]
  },
  {
   "cell_type": "code",
   "execution_count": 12,
   "id": "380757d4-8918-4417-88a3-c7127e46f5df",
   "metadata": {},
   "outputs": [
    {
     "data": {
      "text/plain": [
       "['Sophie-Ha', '02/15/2024', '11', '6,388']"
      ]
     },
     "execution_count": 12,
     "metadata": {},
     "output_type": "execute_result"
    }
   ],
   "source": [
    "processed_data[1500]"
   ]
  },
  {
   "cell_type": "code",
   "execution_count": 13,
   "id": "457b980b-607b-4dbb-a0fa-d95b8548168c",
   "metadata": {},
   "outputs": [],
   "source": [
    "scraped_df = {\n",
    "    'title': title_copy[:1540],\n",
    "    'category': cat_copy}"
   ]
  },
  {
   "cell_type": "code",
   "execution_count": 14,
   "id": "1f19df1f-e1ef-42eb-a3a5-9568201aca19",
   "metadata": {},
   "outputs": [],
   "source": [
    "# allocating all the elements in the nested list to key-value pairs\n",
    "\n",
    "def process_insert_df(lst, dict_):\n",
    "    temp_dict = dict_\n",
    "    keys = ['author_name', 'dates', 'num comments', 'num views']\n",
    "    # Use zip(*) to unpack and transpose lst\n",
    "    for key, values in zip(keys, zip(*lst)):\n",
    "        temp_dict[key] = list(values)\n",
    "    return temp_dict"
   ]
  },
  {
   "cell_type": "code",
   "execution_count": 16,
   "id": "559d98cd-d0c8-46e7-a709-a244eb80780b",
   "metadata": {},
   "outputs": [],
   "source": [
    "final_dict = process_insert_df(processed_data, scraped_df)"
   ]
  },
  {
   "cell_type": "code",
   "execution_count": 17,
   "id": "6860c00a-5b8a-4587-b9a4-1e635bbd7cad",
   "metadata": {},
   "outputs": [
    {
     "data": {
      "text/html": [
       "<div>\n",
       "<style scoped>\n",
       "    .dataframe tbody tr th:only-of-type {\n",
       "        vertical-align: middle;\n",
       "    }\n",
       "\n",
       "    .dataframe tbody tr th {\n",
       "        vertical-align: top;\n",
       "    }\n",
       "\n",
       "    .dataframe thead th {\n",
       "        text-align: right;\n",
       "    }\n",
       "</style>\n",
       "<table border=\"1\" class=\"dataframe\">\n",
       "  <thead>\n",
       "    <tr style=\"text-align: right;\">\n",
       "      <th></th>\n",
       "      <th>title</th>\n",
       "      <th>category</th>\n",
       "      <th>author_name</th>\n",
       "      <th>dates</th>\n",
       "      <th>num comments</th>\n",
       "      <th>num views</th>\n",
       "    </tr>\n",
       "  </thead>\n",
       "  <tbody>\n",
       "    <tr>\n",
       "      <th>0</th>\n",
       "      <td>Stray Kids' Seungmin delivers a perfect strike...</td>\n",
       "      <td>Misc</td>\n",
       "      <td>EunhaYi</td>\n",
       "      <td>3/18/2024</td>\n",
       "      <td>0</td>\n",
       "      <td>582</td>\n",
       "    </tr>\n",
       "    <tr>\n",
       "      <th>1</th>\n",
       "      <td>‘Chicken Nugget’ dominates integrated content ...</td>\n",
       "      <td>News</td>\n",
       "      <td>EunhaYi</td>\n",
       "      <td>3/18/2024</td>\n",
       "      <td>1</td>\n",
       "      <td>1,327</td>\n",
       "    </tr>\n",
       "    <tr>\n",
       "      <th>2</th>\n",
       "      <td>Singer Jung Joon Young, convicted in sex video...</td>\n",
       "      <td>News</td>\n",
       "      <td>EunhaYi</td>\n",
       "      <td>3/18/2024</td>\n",
       "      <td>32</td>\n",
       "      <td>5,499</td>\n",
       "    </tr>\n",
       "    <tr>\n",
       "      <th>3</th>\n",
       "      <td>DAY6's latest hit 'Welcome to the Show' tops m...</td>\n",
       "      <td>News</td>\n",
       "      <td>EunhaYi</td>\n",
       "      <td>3/18/2024</td>\n",
       "      <td>9</td>\n",
       "      <td>1,294</td>\n",
       "    </tr>\n",
       "    <tr>\n",
       "      <th>4</th>\n",
       "      <td>OMEGA X provides legal update on lawsuit again...</td>\n",
       "      <td>News</td>\n",
       "      <td>EunhaYi</td>\n",
       "      <td>3/18/2024</td>\n",
       "      <td>4</td>\n",
       "      <td>1,124</td>\n",
       "    </tr>\n",
       "    <tr>\n",
       "      <th>...</th>\n",
       "      <td>...</td>\n",
       "      <td>...</td>\n",
       "      <td>...</td>\n",
       "      <td>...</td>\n",
       "      <td>...</td>\n",
       "      <td>...</td>\n",
       "    </tr>\n",
       "    <tr>\n",
       "      <th>1535</th>\n",
       "      <td>Pentagon's Wooseok takes to great outdoors in ...</td>\n",
       "      <td>News</td>\n",
       "      <td>Germaine-Jay</td>\n",
       "      <td>02/15/2024</td>\n",
       "      <td>2</td>\n",
       "      <td>1,503</td>\n",
       "    </tr>\n",
       "    <tr>\n",
       "      <th>1536</th>\n",
       "      <td>ICHILLIN' reveal receipt for 'Feelin' Hot' com...</td>\n",
       "      <td>News</td>\n",
       "      <td>Germaine-Jay</td>\n",
       "      <td>02/15/2024</td>\n",
       "      <td>1</td>\n",
       "      <td>1,541</td>\n",
       "    </tr>\n",
       "    <tr>\n",
       "      <th>1537</th>\n",
       "      <td>n.SSign remember the good times in 'Happy &amp;' MV</td>\n",
       "      <td>Music Video</td>\n",
       "      <td>Germaine-Jay</td>\n",
       "      <td>02/15/2024</td>\n",
       "      <td>0</td>\n",
       "      <td>1,481</td>\n",
       "    </tr>\n",
       "    <tr>\n",
       "      <th>1538</th>\n",
       "      <td>iKON's DK (Donghyuk) gets his heart stolen in ...</td>\n",
       "      <td>Music Video</td>\n",
       "      <td>Germaine-Jay</td>\n",
       "      <td>02/15/2024</td>\n",
       "      <td>4</td>\n",
       "      <td>2,938</td>\n",
       "    </tr>\n",
       "    <tr>\n",
       "      <th>1539</th>\n",
       "      <td>Cha Eun Woo chases love in 'Stay' solo debut MV</td>\n",
       "      <td>Music Video</td>\n",
       "      <td>Germaine-Jay</td>\n",
       "      <td>02/15/2024</td>\n",
       "      <td>4</td>\n",
       "      <td>4,198</td>\n",
       "    </tr>\n",
       "  </tbody>\n",
       "</table>\n",
       "<p>1540 rows × 6 columns</p>\n",
       "</div>"
      ],
      "text/plain": [
       "                                                  title     category  \\\n",
       "0     Stray Kids' Seungmin delivers a perfect strike...         Misc   \n",
       "1     ‘Chicken Nugget’ dominates integrated content ...         News   \n",
       "2     Singer Jung Joon Young, convicted in sex video...         News   \n",
       "3     DAY6's latest hit 'Welcome to the Show' tops m...         News   \n",
       "4     OMEGA X provides legal update on lawsuit again...         News   \n",
       "...                                                 ...          ...   \n",
       "1535  Pentagon's Wooseok takes to great outdoors in ...         News   \n",
       "1536  ICHILLIN' reveal receipt for 'Feelin' Hot' com...         News   \n",
       "1537    n.SSign remember the good times in 'Happy &' MV  Music Video   \n",
       "1538  iKON's DK (Donghyuk) gets his heart stolen in ...  Music Video   \n",
       "1539    Cha Eun Woo chases love in 'Stay' solo debut MV  Music Video   \n",
       "\n",
       "       author_name       dates num comments num views  \n",
       "0          EunhaYi   3/18/2024            0       582  \n",
       "1          EunhaYi   3/18/2024            1     1,327  \n",
       "2          EunhaYi   3/18/2024           32     5,499  \n",
       "3          EunhaYi   3/18/2024            9     1,294  \n",
       "4          EunhaYi   3/18/2024            4     1,124  \n",
       "...            ...         ...          ...       ...  \n",
       "1535  Germaine-Jay  02/15/2024            2     1,503  \n",
       "1536  Germaine-Jay  02/15/2024            1     1,541  \n",
       "1537  Germaine-Jay  02/15/2024            0     1,481  \n",
       "1538  Germaine-Jay  02/15/2024            4     2,938  \n",
       "1539  Germaine-Jay  02/15/2024            4     4,198  \n",
       "\n",
       "[1540 rows x 6 columns]"
      ]
     },
     "execution_count": 17,
     "metadata": {},
     "output_type": "execute_result"
    }
   ],
   "source": [
    "# putting all together as a DataFrame\n",
    "processed_df = pd.DataFrame(final_dict)\n",
    "processed_df"
   ]
  },
  {
   "cell_type": "code",
   "execution_count": null,
   "id": "b7cc567c-0871-483f-a901-b1bf9fd79628",
   "metadata": {},
   "outputs": [],
   "source": []
  }
 ],
 "metadata": {
  "kernelspec": {
   "display_name": "Python 3 (ipykernel)",
   "language": "python",
   "name": "python3"
  },
  "language_info": {
   "codemirror_mode": {
    "name": "ipython",
    "version": 3
   },
   "file_extension": ".py",
   "mimetype": "text/x-python",
   "name": "python",
   "nbconvert_exporter": "python",
   "pygments_lexer": "ipython3",
   "version": "3.10.13"
  }
 },
 "nbformat": 4,
 "nbformat_minor": 5
}
